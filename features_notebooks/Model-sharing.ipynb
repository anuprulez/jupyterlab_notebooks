{
 "cells": [
  {
   "cell_type": "markdown",
   "id": "2faafe31-d556-46af-99de-e72a0b584fdf",
   "metadata": {},
   "source": [
    "## Sharing machine learning models"
   ]
  },
  {
   "cell_type": "markdown",
   "id": "51162e44-3590-46c3-8419-e6c8df513d6c",
   "metadata": {},
   "source": [
    "### Save and retrieve Scikit-learn model"
   ]
  },
  {
   "cell_type": "code",
   "execution_count": 30,
   "id": "56f8a4ad-0a7a-476b-8c53-f8bd2742d03e",
   "metadata": {},
   "outputs": [
    {
     "data": {
      "text/plain": [
       "0.9473684210526315"
      ]
     },
     "execution_count": 30,
     "metadata": {},
     "output_type": "execute_result"
    }
   ],
   "source": [
    "# Train a model.\n",
    "from sklearn.datasets import load_iris\n",
    "from sklearn.model_selection import train_test_split\n",
    "from sklearn.ensemble import RandomForestClassifier\n",
    "\n",
    "iris = load_iris()\n",
    "X, y = iris.data, iris.target\n",
    "X_train, X_test, y_train, y_test = train_test_split(X, y)\n",
    "clr = RandomForestClassifier()\n",
    "clr.fit(X_train, y_train)\n",
    "\n",
    "# accuracy on test data with trained model\n",
    "clr.score(X_test, y_test)"
   ]
  },
  {
   "cell_type": "code",
   "execution_count": 31,
   "id": "912d9ce9-49a9-4b71-9968-f838173e34ef",
   "metadata": {},
   "outputs": [],
   "source": [
    "# Convert into ONNX format\n",
    "from skl2onnx import convert_sklearn\n",
    "from skl2onnx.common.data_types import FloatTensorType\n",
    "\n",
    "initial_type = [('float_input', FloatTensorType([None, 4]))]\n",
    "onx = convert_sklearn(clr, initial_types=initial_type)\n",
    "\n",
    "# save trained model\n",
    "with open(\"saved_models/rf_iris.onnx\", \"wb\") as f:\n",
    "    f.write(onx.SerializeToString())"
   ]
  },
  {
   "cell_type": "code",
   "execution_count": 32,
   "id": "0d334b91-001b-4416-ad6c-eddda8aa0b21",
   "metadata": {},
   "outputs": [],
   "source": [
    "# Compute the prediction with ONNX Runtime\n",
    "import onnxruntime as rt\n",
    "import numpy\n",
    "\n",
    "# retrieve trained model\n",
    "sess = rt.InferenceSession(\"saved_models/rf_iris.onnx\")\n",
    "input_name = sess.get_inputs()[0].name\n",
    "label_name = sess.get_outputs()[0].name\n",
    "\n",
    "# predict labels of test data\n",
    "pred_onx = sess.run([label_name], {input_name: X_test.astype(numpy.float32)})[0]"
   ]
  },
  {
   "cell_type": "code",
   "execution_count": 33,
   "id": "4e15a26d-05fa-4147-a58e-d84ada04f031",
   "metadata": {},
   "outputs": [
    {
     "data": {
      "text/plain": [
       "array([0, 2, 1, 2, 1, 1, 1, 0, 1, 0, 0, 0, 2, 1, 2, 0, 1, 0, 0, 0, 1, 0,\n",
       "       0, 2, 1, 0, 1, 2, 0, 2, 0, 1, 2, 2, 0, 0, 0, 0], dtype=int64)"
      ]
     },
     "execution_count": 33,
     "metadata": {},
     "output_type": "execute_result"
    }
   ],
   "source": [
    "pred_onx"
   ]
  },
  {
   "cell_type": "code",
   "execution_count": 34,
   "id": "be6798ff-dc47-4556-a85a-8de5c1af8a6e",
   "metadata": {},
   "outputs": [
    {
     "data": {
      "text/plain": [
       "0.9473684210526315"
      ]
     },
     "execution_count": 34,
     "metadata": {},
     "output_type": "execute_result"
    }
   ],
   "source": [
    "from sklearn import metrics as score\n",
    "\n",
    "# accuracy on test data using retrieved model\n",
    "score.accuracy_score(y_test, pred_onx)"
   ]
  },
  {
   "cell_type": "markdown",
   "id": "3fb57477-c84d-4238-a96a-f973ce174247",
   "metadata": {},
   "source": [
    "### Save and retrieve Tensorflow model"
   ]
  },
  {
   "cell_type": "code",
   "execution_count": 46,
   "id": "db5488eb-aa5e-473c-a396-f9ce5c0e6964",
   "metadata": {},
   "outputs": [],
   "source": [
    "import tensorflow as tf\n",
    "from tensorflow.keras.layers import Dense, Flatten, Conv2D\n",
    "from tensorflow.keras import Model\n",
    "import tf2onnx"
   ]
  },
  {
   "cell_type": "code",
   "execution_count": 47,
   "id": "ed35e925-05b9-4d29-a3c2-c74849bca367",
   "metadata": {},
   "outputs": [],
   "source": [
    "mnist = tf.keras.datasets.mnist\n",
    "\n",
    "(x_train, y_train), (x_test, y_test) = mnist.load_data()\n",
    "x_train, x_test = x_train / 255.0, x_test / 255.0\n",
    "\n",
    "# Add a channels dimension\n",
    "x_train = x_train[..., tf.newaxis].astype(\"float32\")\n",
    "x_test = x_test[..., tf.newaxis].astype(\"float32\")"
   ]
  },
  {
   "cell_type": "code",
   "execution_count": 48,
   "id": "c27b3c28-2c12-4e3a-9a50-2878d80192d6",
   "metadata": {},
   "outputs": [],
   "source": [
    "train_ds = tf.data.Dataset.from_tensor_slices(\n",
    "    (x_train, y_train)).shuffle(10000).batch(32)\n",
    "\n",
    "test_ds = tf.data.Dataset.from_tensor_slices((x_test, y_test)).batch(32)"
   ]
  },
  {
   "cell_type": "code",
   "execution_count": 49,
   "id": "0c72bb62-45dc-430e-a9f4-246b03bbc048",
   "metadata": {},
   "outputs": [],
   "source": [
    "class MyModel(Model):\n",
    "    def __init__(self):\n",
    "        super(MyModel, self).__init__()\n",
    "        self.conv1 = Conv2D(32, 3, activation='relu')\n",
    "        self.flatten = Flatten()\n",
    "        self.d1 = Dense(128, activation='relu')\n",
    "        self.d2 = Dense(10)\n",
    "\n",
    "    def call(self, x):\n",
    "        x = self.conv1(x)\n",
    "        x = self.flatten(x)\n",
    "        x = self.d1(x)\n",
    "        return self.d2(x)\n",
    "\n",
    "# Create an instance of the model\n",
    "model = MyModel()"
   ]
  },
  {
   "cell_type": "code",
   "execution_count": 133,
   "id": "5a2a0d44-5d34-48d9-9b7e-1021b54a6355",
   "metadata": {},
   "outputs": [
    {
     "data": {
      "text/plain": [
       "'dense_7'"
      ]
     },
     "execution_count": 133,
     "metadata": {},
     "output_type": "execute_result"
    }
   ],
   "source": []
  },
  {
   "cell_type": "code",
   "execution_count": 50,
   "id": "0add51fc-ebee-462d-a707-9cce7e01024c",
   "metadata": {},
   "outputs": [],
   "source": [
    "loss_object = tf.keras.losses.SparseCategoricalCrossentropy(from_logits=True)\n",
    "optimizer = tf.keras.optimizers.Adam()"
   ]
  },
  {
   "cell_type": "code",
   "execution_count": 51,
   "id": "d622f0bb-fade-4026-833e-42d3e1fe1445",
   "metadata": {},
   "outputs": [],
   "source": [
    "train_loss = tf.keras.metrics.Mean(name='train_loss')\n",
    "train_accuracy = tf.keras.metrics.SparseCategoricalAccuracy(name='train_accuracy')"
   ]
  },
  {
   "cell_type": "code",
   "execution_count": null,
   "id": "fa6e4779-b907-42fb-9895-4a3e3df2e0d6",
   "metadata": {},
   "outputs": [],
   "source": [
    "test_loss = tf.keras.metrics.Mean(name='test_loss')\n",
    "test_accuracy = tf.keras.metrics.SparseCategoricalAccuracy(name='test_accuracy')"
   ]
  },
  {
   "cell_type": "code",
   "execution_count": 52,
   "id": "827684b3-2b36-4092-9e16-d3d24ef07892",
   "metadata": {},
   "outputs": [],
   "source": [
    "@tf.function\n",
    "def train_step(images, labels):\n",
    "  with tf.GradientTape() as tape:\n",
    "    # training=True is only needed if there are layers with different\n",
    "    # behavior during training versus inference (e.g. Dropout).\n",
    "    predictions = model(images, training=True)\n",
    "    loss = loss_object(labels, predictions)\n",
    "  gradients = tape.gradient(loss, model.trainable_variables)\n",
    "  optimizer.apply_gradients(zip(gradients, model.trainable_variables))\n",
    "\n",
    "  train_loss(loss)\n",
    "  train_accuracy(labels, predictions)"
   ]
  },
  {
   "cell_type": "code",
   "execution_count": 53,
   "id": "49787b09-81a7-4132-a379-17d50645ad9e",
   "metadata": {},
   "outputs": [
    {
     "name": "stdout",
     "output_type": "stream",
     "text": [
      "Training epoch: 1\n",
      "Epoch 1, Loss: 0.13305729627609253, Accuracy: 95.99333190917969, \n",
      "Training epoch: 2\n",
      "Epoch 2, Loss: 0.04282589256763458, Accuracy: 98.66166687011719, \n"
     ]
    }
   ],
   "source": [
    "EPOCHS = 5\n",
    "\n",
    "for epoch in range(EPOCHS):\n",
    "  # Reset the metrics at the start of the next epoch\n",
    "  train_loss.reset_states()\n",
    "  train_accuracy.reset_states()\n",
    "  print(\"Training epoch: {}\".format(str(epoch+1)))\n",
    "  for test_images, test_labels in test_ds:\n",
    "    test_step(test_images, test_labels)\n",
    "\n",
    "  print(\n",
    "    f'Epoch {epoch + 1}, '\n",
    "    f'Loss: {train_loss.result()}, '\n",
    "    f'Accuracy: {train_accuracy.result() * 100}, '\n",
    "    f'Test Loss: {test_loss.result()}, '\n",
    "    f'Test Accuracy: {test_accuracy.result() * 100}'\n",
    "  )"
   ]
  },
  {
   "cell_type": "code",
   "execution_count": null,
   "id": "2382651b-bdde-4d0c-8c55-d1f6ceb83846",
   "metadata": {},
   "outputs": [],
   "source": []
  },
  {
   "cell_type": "code",
   "execution_count": 110,
   "id": "f5d338be-6d58-423d-8c31-6999a802f235",
   "metadata": {},
   "outputs": [
    {
     "name": "stdout",
     "output_type": "stream",
     "text": [
      "INFO:tensorflow:Assets written to: tf_model/assets\n"
     ]
    },
    {
     "name": "stderr",
     "output_type": "stream",
     "text": [
      "INFO:tensorflow:Assets written to: tf_model/assets\n"
     ]
    }
   ],
   "source": [
    "tf.saved_model.save(model, 'tf_model')"
   ]
  },
  {
   "cell_type": "code",
   "execution_count": null,
   "id": "6929cdca-4c31-43b7-bbfd-0a9e1935f13b",
   "metadata": {},
   "outputs": [],
   "source": []
  },
  {
   "cell_type": "code",
   "execution_count": 362,
   "id": "21803cd0-983b-47d1-a5b2-23daea943572",
   "metadata": {},
   "outputs": [
    {
     "name": "stderr",
     "output_type": "stream",
     "text": [
      "/opt/conda/lib/python3.9/runpy.py:127: RuntimeWarning: 'tf2onnx.convert' found in sys.modules after import of package 'tf2onnx', but prior to execution of 'tf2onnx.convert'; this may result in unpredictable behaviour\n",
      "  warn(RuntimeWarning(msg))\n",
      "2021-06-15 08:38:16,024 - WARNING - '--tag' not specified for saved_model. Using --tag serve\n",
      "2021-06-15 08:38:16,154 - INFO - Signatures found in model: [serving_default].\n",
      "2021-06-15 08:38:16,155 - WARNING - '--signature_def' not specified, using first signature: serving_default\n",
      "2021-06-15 08:38:16,155 - INFO - Output names: ['output_1']\n",
      "WARNING:tensorflow:From /opt/conda/lib/python3.9/site-packages/tf2onnx/tf_loader.py:603: extract_sub_graph (from tensorflow.python.framework.graph_util_impl) is deprecated and will be removed in a future version.\n",
      "Instructions for updating:\n",
      "Use `tf.compat.v1.graph_util.extract_sub_graph`\n",
      "2021-06-15 08:38:16,395 - WARNING - From /opt/conda/lib/python3.9/site-packages/tf2onnx/tf_loader.py:603: extract_sub_graph (from tensorflow.python.framework.graph_util_impl) is deprecated and will be removed in a future version.\n",
      "Instructions for updating:\n",
      "Use `tf.compat.v1.graph_util.extract_sub_graph`\n",
      "2021-06-15 08:38:16,551 - INFO - Using tensorflow=2.4.1, onnx=1.9.0, tf2onnx=1.8.5/50049d\n",
      "2021-06-15 08:38:16,551 - INFO - Using opset <onnx, 9>\n",
      "2021-06-15 08:38:16,987 - INFO - Computed 0 values for constant folding\n",
      "2021-06-15 08:38:17,854 - INFO - Optimizing ONNX model\n",
      "2021-06-15 08:38:18,258 - INFO - After optimization: Cast -1 (1->0), Const +1 (7->8), Identity -5 (5->0), Reshape +1 (1->2), Transpose -1 (2->1)\n",
      "2021-06-15 08:38:18,298 - INFO - \n",
      "2021-06-15 08:38:18,298 - INFO - Successfully converted TensorFlow model tf_model to ONNX\n",
      "2021-06-15 08:38:18,298 - INFO - Model inputs: ['input_1:0']\n",
      "2021-06-15 08:38:18,298 - INFO - Model outputs: ['output_1']\n",
      "2021-06-15 08:38:18,299 - INFO - ONNX model is saved at tfmodel.onnx\n"
     ]
    }
   ],
   "source": []
  },
  {
   "cell_type": "markdown",
   "id": "f96cee9c-460f-4606-8926-d21647a2c473",
   "metadata": {},
   "source": [
    "### Retrieve saved tensorflow model"
   ]
  },
  {
   "cell_type": "code",
   "execution_count": 473,
   "id": "23abb6d8-b933-4e74-8830-249dad9ccbd5",
   "metadata": {},
   "outputs": [],
   "source": [
    "import onnx\n",
    "from onnx_tf.backend import prepare"
   ]
  },
  {
   "cell_type": "code",
   "execution_count": 474,
   "id": "b75fc9f4-1c49-4b8e-91d5-2598fd271cb6",
   "metadata": {},
   "outputs": [],
   "source": [
    "loaded_model = onnx.load(\"tfmodel.onnx\")"
   ]
  },
  {
   "cell_type": "code",
   "execution_count": 475,
   "id": "83473b7d-3b16-4200-b20d-1ff9d8c4b1aa",
   "metadata": {},
   "outputs": [
    {
     "name": "stdout",
     "output_type": "stream",
     "text": [
      "['ByteSize', 'Clear', 'ClearExtension', 'ClearField', 'CopyFrom', 'DESCRIPTOR', 'DiscardUnknownFields', 'Extensions', 'FindInitializationErrors', 'FromString', 'HasExtension', 'HasField', 'IsInitialized', 'ListFields', 'MergeFrom', 'MergeFromString', 'ParseFromString', 'RegisterExtension', 'SerializePartialToString', 'SerializeToString', 'SetInParent', 'UnknownFields', 'WhichOneof', '_CheckCalledFromGeneratedFile', '_SetListener', '__class__', '__deepcopy__', '__delattr__', '__dir__', '__doc__', '__eq__', '__format__', '__ge__', '__getattribute__', '__getstate__', '__gt__', '__hash__', '__init__', '__init_subclass__', '__le__', '__lt__', '__module__', '__ne__', '__new__', '__reduce__', '__reduce_ex__', '__repr__', '__setattr__', '__setstate__', '__sizeof__', '__slots__', '__str__', '__subclasshook__', '__unicode__', '_extensions_by_name', '_extensions_by_number', 'doc_string', 'domain', 'graph', 'ir_version', 'metadata_props', 'model_version', 'opset_import', 'producer_name', 'producer_version', 'training_info']\n"
     ]
    }
   ],
   "source": [
    "print(dir(loaded_model))"
   ]
  },
  {
   "cell_type": "code",
   "execution_count": 476,
   "id": "b93221f2-5073-48a4-b2a4-193f9bdf0e2e",
   "metadata": {},
   "outputs": [],
   "source": [
    "tf_loaded_model = prepare(loaded_model)"
   ]
  },
  {
   "cell_type": "code",
   "execution_count": 477,
   "id": "3cc1fc94-5987-4b98-bf87-713d07bf606d",
   "metadata": {},
   "outputs": [
    {
     "name": "stdout",
     "output_type": "stream",
     "text": [
      "['__class__', '__delattr__', '__dict__', '__dir__', '__doc__', '__eq__', '__format__', '__ge__', '__getattribute__', '__gt__', '__hash__', '__init__', '__init_subclass__', '__le__', '__lt__', '__module__', '__ne__', '__new__', '__reduce__', '__reduce_ex__', '__repr__', '__setattr__', '__sizeof__', '__str__', '__subclasshook__', '__weakref__', '_graph', '_inputs', '_onnx_op_list', '_outputs', '_tensor_dict', '_tf_module', 'export_graph', 'graph', 'inputs', 'onnx_op_list', 'outputs', 'run', 'signatures', 'tensor_dict', 'tf_module']\n"
     ]
    }
   ],
   "source": [
    "print(dir(tf_loaded_model))"
   ]
  },
  {
   "cell_type": "code",
   "execution_count": 478,
   "id": "d8cdd391-ea82-4859-b013-8c8670faa55c",
   "metadata": {},
   "outputs": [
    {
     "data": {
      "text/plain": [
       "{'input_1:0': TensorSpec(shape=(None, 28, 28, 1), dtype=tf.float32, name='input_1_tf_0_1e47038a')}"
      ]
     },
     "execution_count": 478,
     "metadata": {},
     "output_type": "execute_result"
    }
   ],
   "source": [
    "tf_loaded_model.signatures"
   ]
  },
  {
   "cell_type": "code",
   "execution_count": 479,
   "id": "43668239-f15c-4031-9cfd-fa46b74eeb33",
   "metadata": {},
   "outputs": [],
   "source": [
    "#tf_loaded_model.export_graph(\"loaded_model\")\n",
    "#saved_loaded_model = tf.saved_model.load(\"loaded_model\")\n",
    "#print(dir(saved_loaded_model))"
   ]
  },
  {
   "cell_type": "code",
   "execution_count": 480,
   "id": "3e4cda9b-e5a5-41dd-bdd9-0456f9f4352b",
   "metadata": {},
   "outputs": [],
   "source": []
  },
  {
   "cell_type": "code",
   "execution_count": 536,
   "id": "12a47f85-e75d-47e4-b5b7-e6ca8a66a84e",
   "metadata": {
    "tags": []
   },
   "outputs": [
    {
     "name": "stdout",
     "output_type": "stream",
     "text": [
      "Batch 1, Test Loss: 0.017193816602230072, Test Accuracy: 100.0\n",
      "Batch 2, Test Loss: 0.005927897524088621, Test Accuracy: 100.0\n",
      "Batch 3, Test Loss: 0.01055480632930994, Test Accuracy: 100.0\n",
      "Batch 4, Test Loss: 0.019561728462576866, Test Accuracy: 100.0\n",
      "Batch 5, Test Loss: 0.00039507614565081894, Test Accuracy: 100.0\n",
      "Batch 6, Test Loss: 0.0001560715027153492, Test Accuracy: 100.0\n",
      "Batch 7, Test Loss: 0.0021486759651452303, Test Accuracy: 100.0\n",
      "Batch 8, Test Loss: 0.11434843391180038, Test Accuracy: 96.875\n",
      "Batch 9, Test Loss: 0.05198501795530319, Test Accuracy: 96.875\n",
      "Batch 10, Test Loss: 4.441613782546483e-05, Test Accuracy: 100.0\n",
      "Batch 11, Test Loss: 0.31705182790756226, Test Accuracy: 93.75\n",
      "Batch 12, Test Loss: 0.005392933264374733, Test Accuracy: 100.0\n",
      "Batch 13, Test Loss: 0.03120310604572296, Test Accuracy: 96.875\n",
      "Batch 14, Test Loss: 0.07668691873550415, Test Accuracy: 96.875\n",
      "Batch 15, Test Loss: 0.02643292024731636, Test Accuracy: 100.0\n",
      "Batch 16, Test Loss: 0.041234567761421204, Test Accuracy: 96.875\n",
      "Batch 17, Test Loss: 0.08653593808412552, Test Accuracy: 96.875\n",
      "Batch 18, Test Loss: 0.0013280074344947934, Test Accuracy: 100.0\n",
      "Batch 19, Test Loss: 0.14150652289390564, Test Accuracy: 93.75\n",
      "Batch 20, Test Loss: 0.0024960869923233986, Test Accuracy: 100.0\n",
      "Batch 21, Test Loss: 0.13299673795700073, Test Accuracy: 96.875\n",
      "Batch 22, Test Loss: 0.0012946127681061625, Test Accuracy: 100.0\n",
      "Batch 23, Test Loss: 0.02731727436184883, Test Accuracy: 100.0\n",
      "Batch 24, Test Loss: 0.004750169347971678, Test Accuracy: 100.0\n",
      "Batch 25, Test Loss: 0.00027624459471553564, Test Accuracy: 100.0\n",
      "Batch 26, Test Loss: 0.0008296003798022866, Test Accuracy: 100.0\n",
      "Batch 27, Test Loss: 0.035930335521698, Test Accuracy: 96.875\n",
      "Batch 28, Test Loss: 0.043459080159664154, Test Accuracy: 96.875\n",
      "Batch 29, Test Loss: 0.0003358666435815394, Test Accuracy: 100.0\n",
      "Batch 30, Test Loss: 0.5377959609031677, Test Accuracy: 90.625\n",
      "Batch 31, Test Loss: 0.015395023860037327, Test Accuracy: 100.0\n",
      "Batch 32, Test Loss: 0.19160132110118866, Test Accuracy: 96.875\n",
      "Batch 33, Test Loss: 0.09279070794582367, Test Accuracy: 93.75\n",
      "Batch 34, Test Loss: 0.04469002038240433, Test Accuracy: 96.875\n",
      "Batch 35, Test Loss: 0.07192438840866089, Test Accuracy: 96.875\n",
      "Batch 36, Test Loss: 0.0006178311887197196, Test Accuracy: 100.0\n",
      "Batch 37, Test Loss: 0.08963587880134583, Test Accuracy: 93.75\n",
      "Batch 38, Test Loss: 0.03718565031886101, Test Accuracy: 96.875\n",
      "Batch 39, Test Loss: 0.36431685090065, Test Accuracy: 90.625\n",
      "Batch 40, Test Loss: 0.009694632142782211, Test Accuracy: 100.0\n",
      "Batch 41, Test Loss: 0.0019633066840469837, Test Accuracy: 100.0\n",
      "Batch 42, Test Loss: 0.24358588457107544, Test Accuracy: 93.75\n",
      "Batch 43, Test Loss: 0.007976369932293892, Test Accuracy: 100.0\n",
      "Batch 44, Test Loss: 0.12281998246908188, Test Accuracy: 93.75\n",
      "Batch 45, Test Loss: 0.10131166130304337, Test Accuracy: 96.875\n",
      "Batch 46, Test Loss: 0.09899354726076126, Test Accuracy: 96.875\n",
      "Batch 47, Test Loss: 0.0011207008501514792, Test Accuracy: 100.0\n",
      "Batch 48, Test Loss: 0.25460588932037354, Test Accuracy: 93.75\n",
      "Batch 49, Test Loss: 0.1916685849428177, Test Accuracy: 90.625\n",
      "Batch 50, Test Loss: 0.0008123739389702678, Test Accuracy: 100.0\n",
      "Batch 51, Test Loss: 0.07118929922580719, Test Accuracy: 96.875\n",
      "Batch 52, Test Loss: 0.07237064838409424, Test Accuracy: 93.75\n",
      "Batch 53, Test Loss: 0.038987789303064346, Test Accuracy: 96.875\n",
      "Batch 54, Test Loss: 0.22434259951114655, Test Accuracy: 93.75\n",
      "Batch 55, Test Loss: 0.004946201108396053, Test Accuracy: 100.0\n",
      "Batch 56, Test Loss: 0.14492590725421906, Test Accuracy: 96.875\n",
      "Batch 57, Test Loss: 0.0011241135653108358, Test Accuracy: 100.0\n",
      "Batch 58, Test Loss: 0.0028262482956051826, Test Accuracy: 100.0\n",
      "Batch 59, Test Loss: 0.022501468658447266, Test Accuracy: 100.0\n",
      "Batch 60, Test Loss: 0.16019390523433685, Test Accuracy: 96.875\n",
      "Batch 61, Test Loss: 0.04639618471264839, Test Accuracy: 96.875\n",
      "Batch 62, Test Loss: 0.0008092987118288875, Test Accuracy: 100.0\n",
      "Batch 63, Test Loss: 0.0029692468233406544, Test Accuracy: 100.0\n",
      "Batch 64, Test Loss: 0.14977097511291504, Test Accuracy: 96.875\n",
      "Batch 65, Test Loss: 0.06403367221355438, Test Accuracy: 93.75\n",
      "Batch 66, Test Loss: 0.15921156108379364, Test Accuracy: 93.75\n",
      "Batch 67, Test Loss: 0.8018013834953308, Test Accuracy: 87.5\n",
      "Batch 68, Test Loss: 0.0009547200752422214, Test Accuracy: 100.0\n",
      "Batch 69, Test Loss: 0.043679129332304, Test Accuracy: 100.0\n",
      "Batch 70, Test Loss: 0.014851266518235207, Test Accuracy: 100.0\n",
      "Batch 71, Test Loss: 0.02039477601647377, Test Accuracy: 100.0\n",
      "Batch 72, Test Loss: 0.2091580033302307, Test Accuracy: 93.75\n",
      "Batch 73, Test Loss: 0.02712109312415123, Test Accuracy: 96.875\n",
      "Batch 74, Test Loss: 0.00330476276576519, Test Accuracy: 100.0\n",
      "Batch 75, Test Loss: 0.05964900925755501, Test Accuracy: 96.875\n",
      "Batch 76, Test Loss: 0.23458577692508698, Test Accuracy: 93.75\n",
      "Batch 77, Test Loss: 0.29697591066360474, Test Accuracy: 93.75\n",
      "Batch 78, Test Loss: 0.009179811924695969, Test Accuracy: 100.0\n",
      "Batch 79, Test Loss: 0.0002835085615515709, Test Accuracy: 100.0\n",
      "Batch 80, Test Loss: 0.00030271161813288927, Test Accuracy: 100.0\n",
      "Batch 81, Test Loss: 0.011100485920906067, Test Accuracy: 100.0\n",
      "Batch 82, Test Loss: 0.06443189829587936, Test Accuracy: 96.875\n",
      "Batch 83, Test Loss: 0.40337663888931274, Test Accuracy: 93.75\n",
      "Batch 84, Test Loss: 0.0003948747762478888, Test Accuracy: 100.0\n",
      "Batch 85, Test Loss: 0.00047160597750917077, Test Accuracy: 100.0\n",
      "Batch 86, Test Loss: 0.07366897910833359, Test Accuracy: 93.75\n",
      "Batch 87, Test Loss: 0.12921135127544403, Test Accuracy: 96.875\n",
      "Batch 88, Test Loss: 0.0025506089441478252, Test Accuracy: 100.0\n",
      "Batch 89, Test Loss: 0.003501466242596507, Test Accuracy: 100.0\n",
      "Batch 90, Test Loss: 0.0010792178800329566, Test Accuracy: 100.0\n",
      "Batch 91, Test Loss: 0.2176361083984375, Test Accuracy: 96.875\n",
      "Batch 92, Test Loss: 0.460238516330719, Test Accuracy: 90.625\n",
      "Batch 93, Test Loss: 0.2318357676267624, Test Accuracy: 90.625\n",
      "Batch 94, Test Loss: 0.04778023436665535, Test Accuracy: 96.875\n",
      "Batch 95, Test Loss: 0.1282307207584381, Test Accuracy: 96.875\n",
      "Batch 96, Test Loss: 0.04112820699810982, Test Accuracy: 100.0\n",
      "Batch 97, Test Loss: 0.08253295719623566, Test Accuracy: 96.875\n",
      "Batch 98, Test Loss: 0.010051551274955273, Test Accuracy: 100.0\n",
      "Batch 99, Test Loss: 0.00028632598696276546, Test Accuracy: 100.0\n",
      "Batch 100, Test Loss: 0.001376584405079484, Test Accuracy: 100.0\n",
      "Batch 101, Test Loss: 0.03129670023918152, Test Accuracy: 96.875\n",
      "Batch 102, Test Loss: 0.00029942241962999105, Test Accuracy: 100.0\n",
      "Batch 103, Test Loss: 0.060379039496183395, Test Accuracy: 96.875\n",
      "Batch 104, Test Loss: 0.000710714259184897, Test Accuracy: 100.0\n",
      "Batch 105, Test Loss: 0.13866595923900604, Test Accuracy: 96.875\n",
      "Batch 106, Test Loss: 0.00839065108448267, Test Accuracy: 100.0\n",
      "Batch 107, Test Loss: 0.0846683606505394, Test Accuracy: 96.875\n",
      "Batch 108, Test Loss: 0.15390509366989136, Test Accuracy: 96.875\n",
      "Batch 109, Test Loss: 0.009016258642077446, Test Accuracy: 100.0\n",
      "Batch 110, Test Loss: 0.23798224329948425, Test Accuracy: 96.875\n",
      "Batch 111, Test Loss: 0.37338966131210327, Test Accuracy: 96.875\n",
      "Batch 112, Test Loss: 0.23825281858444214, Test Accuracy: 93.75\n",
      "Batch 113, Test Loss: 0.07492638379335403, Test Accuracy: 96.875\n",
      "Batch 114, Test Loss: 0.00020462684915401042, Test Accuracy: 100.0\n",
      "Batch 115, Test Loss: 0.011630360968410969, Test Accuracy: 100.0\n",
      "Batch 116, Test Loss: 0.003103286260738969, Test Accuracy: 100.0\n",
      "Batch 117, Test Loss: 0.18691465258598328, Test Accuracy: 93.75\n",
      "Batch 118, Test Loss: 0.1303519457578659, Test Accuracy: 96.875\n",
      "Batch 119, Test Loss: 0.21817409992218018, Test Accuracy: 93.75\n",
      "Batch 120, Test Loss: 0.24770225584506989, Test Accuracy: 96.875\n",
      "Batch 121, Test Loss: 0.15434899926185608, Test Accuracy: 93.75\n",
      "Batch 122, Test Loss: 0.03796336427330971, Test Accuracy: 96.875\n",
      "Batch 123, Test Loss: 0.041912741959095, Test Accuracy: 96.875\n",
      "Batch 124, Test Loss: 0.055122118443250656, Test Accuracy: 96.875\n",
      "Batch 125, Test Loss: 0.0011135328095406294, Test Accuracy: 100.0\n",
      "Batch 126, Test Loss: 0.013438798487186432, Test Accuracy: 100.0\n",
      "Batch 127, Test Loss: 0.0002706223458517343, Test Accuracy: 100.0\n",
      "Batch 128, Test Loss: 0.12056370824575424, Test Accuracy: 96.875\n",
      "Batch 129, Test Loss: 0.02098470740020275, Test Accuracy: 100.0\n",
      "Batch 130, Test Loss: 0.003947591874748468, Test Accuracy: 100.0\n",
      "Batch 131, Test Loss: 0.04195120930671692, Test Accuracy: 96.875\n",
      "Batch 132, Test Loss: 0.25818824768066406, Test Accuracy: 93.75\n",
      "Batch 133, Test Loss: 0.07843773812055588, Test Accuracy: 96.875\n",
      "Batch 134, Test Loss: 0.06632155179977417, Test Accuracy: 96.875\n",
      "Batch 135, Test Loss: 0.0805966779589653, Test Accuracy: 96.875\n",
      "Batch 136, Test Loss: 0.0013366281054913998, Test Accuracy: 100.0\n",
      "Batch 137, Test Loss: 0.027490850538015366, Test Accuracy: 100.0\n",
      "Batch 138, Test Loss: 0.016977248713374138, Test Accuracy: 100.0\n",
      "Batch 139, Test Loss: 0.0040677920915186405, Test Accuracy: 100.0\n",
      "Batch 140, Test Loss: 0.002595552708953619, Test Accuracy: 100.0\n",
      "Batch 141, Test Loss: 0.4116988480091095, Test Accuracy: 96.875\n",
      "Batch 142, Test Loss: 0.016058186069130898, Test Accuracy: 100.0\n",
      "Batch 143, Test Loss: 0.08030608296394348, Test Accuracy: 96.875\n",
      "Batch 144, Test Loss: 0.1258917897939682, Test Accuracy: 93.75\n",
      "Batch 145, Test Loss: 0.15177957713603973, Test Accuracy: 96.875\n",
      "Batch 146, Test Loss: 0.002332845237106085, Test Accuracy: 100.0\n",
      "Batch 147, Test Loss: 0.0066235922276973724, Test Accuracy: 100.0\n",
      "Batch 148, Test Loss: 0.006586733274161816, Test Accuracy: 100.0\n",
      "Batch 149, Test Loss: 0.2781486511230469, Test Accuracy: 93.75\n",
      "Batch 150, Test Loss: 0.045469947159290314, Test Accuracy: 96.875\n",
      "Batch 151, Test Loss: 0.1768539398908615, Test Accuracy: 90.625\n",
      "Batch 152, Test Loss: 0.0782080665230751, Test Accuracy: 96.875\n",
      "Batch 153, Test Loss: 0.004975391086190939, Test Accuracy: 100.0\n",
      "Batch 154, Test Loss: 0.0017518457025289536, Test Accuracy: 100.0\n",
      "Batch 155, Test Loss: 0.07295508682727814, Test Accuracy: 96.875\n",
      "Batch 156, Test Loss: 0.005016001872718334, Test Accuracy: 100.0\n",
      "Batch 157, Test Loss: 0.00014396471669897437, Test Accuracy: 100.0\n",
      "Batch 158, Test Loss: 2.9223723686300218e-05, Test Accuracy: 100.0\n",
      "Batch 159, Test Loss: 0.005916341207921505, Test Accuracy: 100.0\n",
      "Batch 160, Test Loss: 1.7913545889314264e-05, Test Accuracy: 100.0\n",
      "Batch 161, Test Loss: 0.013852382078766823, Test Accuracy: 100.0\n",
      "Batch 162, Test Loss: 0.05484659969806671, Test Accuracy: 96.875\n",
      "Batch 163, Test Loss: 0.0006329042371362448, Test Accuracy: 100.0\n",
      "Batch 164, Test Loss: 0.045673515647649765, Test Accuracy: 96.875\n",
      "Batch 165, Test Loss: 0.0017608592752367258, Test Accuracy: 100.0\n",
      "Batch 166, Test Loss: 1.7421269149053842e-05, Test Accuracy: 100.0\n",
      "Batch 167, Test Loss: 0.1462128907442093, Test Accuracy: 96.875\n",
      "Batch 168, Test Loss: 7.927521073725075e-05, Test Accuracy: 100.0\n",
      "Batch 169, Test Loss: 0.0002392699825577438, Test Accuracy: 100.0\n",
      "Batch 170, Test Loss: 3.810896942013642e-06, Test Accuracy: 100.0\n",
      "Batch 171, Test Loss: 0.013265114277601242, Test Accuracy: 100.0\n",
      "Batch 172, Test Loss: 6.090591341489926e-06, Test Accuracy: 100.0\n",
      "Batch 173, Test Loss: 4.594287747750059e-05, Test Accuracy: 100.0\n",
      "Batch 174, Test Loss: 7.938420822029002e-06, Test Accuracy: 100.0\n",
      "Batch 175, Test Loss: 0.0010885198134928942, Test Accuracy: 100.0\n",
      "Batch 176, Test Loss: 0.0017257827566936612, Test Accuracy: 100.0\n",
      "Batch 177, Test Loss: 0.16603206098079681, Test Accuracy: 96.875\n",
      "Batch 178, Test Loss: 0.00033972185337916017, Test Accuracy: 100.0\n",
      "Batch 179, Test Loss: 0.0006993339047767222, Test Accuracy: 100.0\n",
      "Batch 180, Test Loss: 0.10239025205373764, Test Accuracy: 93.75\n",
      "Batch 181, Test Loss: 8.197502029361203e-05, Test Accuracy: 100.0\n",
      "Batch 182, Test Loss: 8.236063877120614e-05, Test Accuracy: 100.0\n",
      "Batch 183, Test Loss: 0.003929622005671263, Test Accuracy: 100.0\n",
      "Batch 184, Test Loss: 0.11049340665340424, Test Accuracy: 96.875\n",
      "Batch 185, Test Loss: 0.03936817869544029, Test Accuracy: 96.875\n",
      "Batch 186, Test Loss: 0.011621570214629173, Test Accuracy: 100.0\n",
      "Batch 187, Test Loss: 0.18843182921409607, Test Accuracy: 96.875\n",
      "Batch 188, Test Loss: 0.05694299563765526, Test Accuracy: 96.875\n",
      "Batch 189, Test Loss: 0.036839473992586136, Test Accuracy: 100.0\n",
      "Batch 190, Test Loss: 0.0029667778871953487, Test Accuracy: 100.0\n",
      "Batch 191, Test Loss: 0.00586423184722662, Test Accuracy: 100.0\n",
      "Batch 192, Test Loss: 0.00022518448531627655, Test Accuracy: 100.0\n",
      "Batch 193, Test Loss: 0.10896337032318115, Test Accuracy: 96.875\n",
      "Batch 194, Test Loss: 4.07166407967452e-06, Test Accuracy: 100.0\n",
      "Batch 195, Test Loss: 1.834714930737391e-05, Test Accuracy: 100.0\n",
      "Batch 196, Test Loss: 6.7273745116835926e-06, Test Accuracy: 100.0\n",
      "Batch 197, Test Loss: 6.891767725392128e-07, Test Accuracy: 100.0\n",
      "Batch 198, Test Loss: 2.557238985900767e-05, Test Accuracy: 100.0\n",
      "Batch 199, Test Loss: 0.031316764652729034, Test Accuracy: 96.875\n",
      "Batch 200, Test Loss: 3.375938467797823e-05, Test Accuracy: 100.0\n",
      "Batch 201, Test Loss: 0.02706442028284073, Test Accuracy: 96.875\n",
      "Batch 202, Test Loss: 1.4151763025438413e-05, Test Accuracy: 100.0\n",
      "Batch 203, Test Loss: 0.0005559162236750126, Test Accuracy: 100.0\n",
      "Batch 204, Test Loss: 0.00032219794229604304, Test Accuracy: 100.0\n",
      "Batch 205, Test Loss: 0.11608245223760605, Test Accuracy: 96.875\n",
      "Batch 206, Test Loss: 0.09596230834722519, Test Accuracy: 96.875\n",
      "Batch 207, Test Loss: 0.30030184984207153, Test Accuracy: 93.75\n",
      "Batch 208, Test Loss: 0.1177312582731247, Test Accuracy: 96.875\n",
      "Batch 209, Test Loss: 0.021497875452041626, Test Accuracy: 100.0\n",
      "Batch 210, Test Loss: 7.567310967715457e-05, Test Accuracy: 100.0\n",
      "Batch 211, Test Loss: 0.03870868682861328, Test Accuracy: 96.875\n",
      "Batch 212, Test Loss: 0.006426062434911728, Test Accuracy: 100.0\n",
      "Batch 213, Test Loss: 0.0003070015518460423, Test Accuracy: 100.0\n",
      "Batch 214, Test Loss: 0.0007613027701154351, Test Accuracy: 100.0\n",
      "Batch 215, Test Loss: 3.539352474035695e-05, Test Accuracy: 100.0\n",
      "Batch 216, Test Loss: 0.001243583275936544, Test Accuracy: 100.0\n",
      "Batch 217, Test Loss: 5.2271727327024564e-05, Test Accuracy: 100.0\n",
      "Batch 218, Test Loss: 0.003279748372733593, Test Accuracy: 100.0\n",
      "Batch 219, Test Loss: 2.5334984457003884e-05, Test Accuracy: 100.0\n",
      "Batch 220, Test Loss: 9.117380250245333e-05, Test Accuracy: 100.0\n",
      "Batch 221, Test Loss: 0.000494512845762074, Test Accuracy: 100.0\n",
      "Batch 222, Test Loss: 0.010335768572986126, Test Accuracy: 100.0\n",
      "Batch 223, Test Loss: 0.02291378192603588, Test Accuracy: 100.0\n",
      "Batch 224, Test Loss: 0.0002379567304160446, Test Accuracy: 100.0\n",
      "Batch 225, Test Loss: 7.491394171665888e-06, Test Accuracy: 100.0\n",
      "Batch 226, Test Loss: 0.07190700620412827, Test Accuracy: 96.875\n",
      "Batch 227, Test Loss: 0.0008707696688361466, Test Accuracy: 100.0\n",
      "Batch 228, Test Loss: 0.0006273145554587245, Test Accuracy: 100.0\n",
      "Batch 229, Test Loss: 8.004331175470725e-05, Test Accuracy: 100.0\n",
      "Batch 230, Test Loss: 3.993330028606579e-05, Test Accuracy: 100.0\n",
      "Batch 231, Test Loss: 0.00012272571620997041, Test Accuracy: 100.0\n",
      "Batch 232, Test Loss: 0.00010946267138933763, Test Accuracy: 100.0\n",
      "Batch 233, Test Loss: 0.0019561380613595247, Test Accuracy: 100.0\n",
      "Batch 234, Test Loss: 0.019166724756360054, Test Accuracy: 100.0\n",
      "Batch 235, Test Loss: 0.0011989889899268746, Test Accuracy: 100.0\n",
      "Batch 236, Test Loss: 0.0005797132034786046, Test Accuracy: 100.0\n",
      "Batch 237, Test Loss: 0.0003126035153400153, Test Accuracy: 100.0\n",
      "Batch 238, Test Loss: 1.656162021390628e-05, Test Accuracy: 100.0\n",
      "Batch 239, Test Loss: 0.00030264348606579006, Test Accuracy: 100.0\n",
      "Batch 240, Test Loss: 0.0006025100592523813, Test Accuracy: 100.0\n",
      "Batch 241, Test Loss: 4.853392601944506e-05, Test Accuracy: 100.0\n",
      "Batch 242, Test Loss: 0.0024680832866579294, Test Accuracy: 100.0\n",
      "Batch 243, Test Loss: 1.2702844287559856e-05, Test Accuracy: 100.0\n",
      "Batch 244, Test Loss: 0.0019649507012218237, Test Accuracy: 100.0\n",
      "Batch 245, Test Loss: 0.00873316079378128, Test Accuracy: 100.0\n",
      "Batch 246, Test Loss: 0.09560590982437134, Test Accuracy: 96.875\n",
      "Batch 247, Test Loss: 0.019150834530591965, Test Accuracy: 100.0\n",
      "Batch 248, Test Loss: 0.052769485861063004, Test Accuracy: 96.875\n",
      "Batch 249, Test Loss: 7.727891352260485e-05, Test Accuracy: 100.0\n",
      "Batch 250, Test Loss: 0.030755173414945602, Test Accuracy: 96.875\n",
      "Batch 251, Test Loss: 0.00012642353249248117, Test Accuracy: 100.0\n",
      "Batch 252, Test Loss: 0.01188117079436779, Test Accuracy: 100.0\n",
      "Batch 253, Test Loss: 0.11525586992502213, Test Accuracy: 96.875\n",
      "Batch 254, Test Loss: 0.0032909500878304243, Test Accuracy: 100.0\n",
      "Batch 255, Test Loss: 0.014580399729311466, Test Accuracy: 100.0\n",
      "Batch 256, Test Loss: 0.000568611896596849, Test Accuracy: 100.0\n",
      "Batch 257, Test Loss: 0.00015676308248657733, Test Accuracy: 100.0\n",
      "Batch 258, Test Loss: 0.002910338342189789, Test Accuracy: 100.0\n",
      "Batch 259, Test Loss: 0.00046078581362962723, Test Accuracy: 100.0\n",
      "Batch 260, Test Loss: 0.00617630360648036, Test Accuracy: 100.0\n",
      "Batch 261, Test Loss: 0.19498541951179504, Test Accuracy: 96.875\n",
      "Batch 262, Test Loss: 0.00020568619947880507, Test Accuracy: 100.0\n",
      "Batch 263, Test Loss: 0.007877924479544163, Test Accuracy: 100.0\n",
      "Batch 264, Test Loss: 0.0008072170312516391, Test Accuracy: 100.0\n",
      "Batch 265, Test Loss: 1.5462705050595105e-05, Test Accuracy: 100.0\n",
      "Batch 266, Test Loss: 0.0003876257105730474, Test Accuracy: 100.0\n",
      "Batch 267, Test Loss: 0.13296420872211456, Test Accuracy: 96.875\n",
      "Batch 268, Test Loss: 5.308423624228453e-06, Test Accuracy: 100.0\n",
      "Batch 269, Test Loss: 0.006191199645400047, Test Accuracy: 100.0\n",
      "Batch 270, Test Loss: 9.763533307705075e-05, Test Accuracy: 100.0\n",
      "Batch 271, Test Loss: 6.283253605943173e-05, Test Accuracy: 100.0\n",
      "Batch 272, Test Loss: 3.285688080723048e-06, Test Accuracy: 100.0\n",
      "Batch 273, Test Loss: 1.6623980627628043e-05, Test Accuracy: 100.0\n",
      "Batch 274, Test Loss: 4.913592420052737e-06, Test Accuracy: 100.0\n",
      "Batch 275, Test Loss: 1.4342258509714156e-06, Test Accuracy: 100.0\n",
      "Batch 276, Test Loss: 6.742351615685038e-06, Test Accuracy: 100.0\n",
      "Batch 277, Test Loss: 7.480094609491061e-06, Test Accuracy: 100.0\n",
      "Batch 278, Test Loss: 2.223985575255938e-06, Test Accuracy: 100.0\n",
      "Batch 279, Test Loss: 2.0568459149217233e-05, Test Accuracy: 100.0\n",
      "Batch 280, Test Loss: 0.0008317194296978414, Test Accuracy: 100.0\n",
      "Batch 281, Test Loss: 3.911470230377745e-06, Test Accuracy: 100.0\n",
      "Batch 282, Test Loss: 0.27751728892326355, Test Accuracy: 96.875\n",
      "Batch 283, Test Loss: 0.06547610461711884, Test Accuracy: 96.875\n",
      "Batch 284, Test Loss: 0.0002298035251442343, Test Accuracy: 100.0\n",
      "Batch 285, Test Loss: 1.5883419109741226e-05, Test Accuracy: 100.0\n",
      "Batch 286, Test Loss: 2.867423609131947e-05, Test Accuracy: 100.0\n",
      "Batch 287, Test Loss: 0.00028473022393882275, Test Accuracy: 100.0\n",
      "Batch 288, Test Loss: 2.89729141513817e-05, Test Accuracy: 100.0\n",
      "Batch 289, Test Loss: 4.703664671978913e-05, Test Accuracy: 100.0\n",
      "Batch 290, Test Loss: 0.0018651998834684491, Test Accuracy: 100.0\n",
      "Batch 291, Test Loss: 0.003112123580649495, Test Accuracy: 100.0\n",
      "Batch 292, Test Loss: 0.00010204693535342813, Test Accuracy: 100.0\n",
      "Batch 293, Test Loss: 6.6418970163795166e-06, Test Accuracy: 100.0\n",
      "Batch 294, Test Loss: 0.00032613458461128175, Test Accuracy: 100.0\n",
      "Batch 295, Test Loss: 0.003223440144211054, Test Accuracy: 100.0\n",
      "Batch 296, Test Loss: 1.6725321984267794e-05, Test Accuracy: 100.0\n",
      "Batch 297, Test Loss: 0.00018616352463141084, Test Accuracy: 100.0\n",
      "Batch 298, Test Loss: 0.006424454506486654, Test Accuracy: 100.0\n",
      "Batch 299, Test Loss: 0.08520320057868958, Test Accuracy: 96.875\n",
      "Batch 300, Test Loss: 0.0033609718084335327, Test Accuracy: 100.0\n",
      "Batch 301, Test Loss: 0.07729410380125046, Test Accuracy: 96.875\n",
      "Batch 302, Test Loss: 0.009543078020215034, Test Accuracy: 100.0\n",
      "Batch 303, Test Loss: 0.1417265087366104, Test Accuracy: 93.75\n",
      "Batch 304, Test Loss: 0.0010590464808046818, Test Accuracy: 100.0\n",
      "Batch 305, Test Loss: 0.20785343647003174, Test Accuracy: 96.875\n",
      "Batch 306, Test Loss: 0.19488729536533356, Test Accuracy: 96.875\n",
      "Batch 307, Test Loss: 0.00474694836884737, Test Accuracy: 100.0\n",
      "Batch 308, Test Loss: 0.1078527644276619, Test Accuracy: 96.875\n",
      "Batch 309, Test Loss: 0.021570608019828796, Test Accuracy: 100.0\n",
      "Batch 310, Test Loss: 0.004839774686843157, Test Accuracy: 100.0\n",
      "Batch 311, Test Loss: 0.009753300808370113, Test Accuracy: 100.0\n",
      "Batch 312, Test Loss: 0.04009660705924034, Test Accuracy: 96.875\n",
      "Batch 313, Test Loss: 0.00010551295417826623, Test Accuracy: 100.0\n"
     ]
    }
   ],
   "source": [
    "import numpy as np\n",
    "\n",
    "def test_step(images, labels):\n",
    "  # Reset the metrics at the start of the next epoch\n",
    "  test_loss.reset_states()\n",
    "  test_accuracy.reset_states()\n",
    "  true_labels = []\n",
    "  predicted_labels = []\n",
    "  for i, item in enumerate(images):\n",
    "      prediction = tf_loaded_model.run(item, training=False)\n",
    "      pred = np.array(prediction).squeeze()\n",
    "      true_labels.append([labels[i].numpy()])\n",
    "      predicted_labels.append(pred)\n",
    "  t_loss = loss_object(true_labels, predicted_labels)\n",
    "  test_loss(t_loss)\n",
    "  test_accuracy(labels, predicted_labels)\n",
    "\n",
    "i = 0\n",
    "for test_images, test_labels in test_ds:\n",
    "  test_step(test_images, test_labels)\n",
    "  print(\n",
    "    f'Batch {i + 1}, '\n",
    "    f'Test Loss: {test_loss.result()}, '\n",
    "    f'Test Accuracy: {test_accuracy.result() * 100}'\n",
    "  )\n",
    "  i += 1"
   ]
  },
  {
   "cell_type": "code",
   "execution_count": null,
   "id": "af37004f-a79f-48ec-a967-84e8b1d0c944",
   "metadata": {},
   "outputs": [],
   "source": []
  },
  {
   "cell_type": "code",
   "execution_count": null,
   "id": "bb6bf6e4-a31e-41ae-9b4d-4d8ebdbad63c",
   "metadata": {},
   "outputs": [],
   "source": []
  },
  {
   "cell_type": "code",
   "execution_count": null,
   "id": "f1c33853-576c-4119-8c89-c8473412d8cf",
   "metadata": {},
   "outputs": [],
   "source": []
  },
  {
   "cell_type": "code",
   "execution_count": null,
   "id": "efa940b3-48cc-4664-9a42-2d75493c6b79",
   "metadata": {},
   "outputs": [],
   "source": [
    "from tensorflow.python.platform import gfile\n",
    "from tensorflow.core.protobuf import saved_model_pb2\n",
    "from tensorflow.python.util import compat\n",
    "from google.protobuf import text_format\n",
    "\n",
    "graph_def = tf.compat.v1.GraphDef()\n",
    "\n",
    "# These are set to the default names from exported models, update as needed.\n",
    "filename = \"loaded_model/saved_model.pb\"\n",
    "\n",
    "#INPUT_TENSOR_NAME = model.conv1.name + \":0\"\n",
    "#OUTPUT_TENSOR_NAME = model.d2.name + \":0\"\n",
    "\n",
    "print(INPUT_TENSOR_NAME, OUTPUT_TENSOR_NAME)\n",
    "\n",
    "# Import the TF graph\n",
    "with gfile.FastGFile(filename, 'rb') as f:\n",
    "    data = compat.as_bytes(f.read())\n",
    "    sm = saved_model_pb2.SavedModel()\n",
    "    sm.ParseFromString(data)\n",
    "    #graph_def = tf.GraphDef()\n",
    "    #content = f.read()\n",
    "    #a = text_format.Merge(content, graph_def)\n",
    "    #graph_def.ParseFromString(content)\n",
    "    with tf.Graph().as_default() as graph:\n",
    "        #g_in = tf.import_graph_def(sm.meta_graphs[0].graph_def)\n",
    "        #tf.import_graph_def(sm.meta_graphs[0].graph_def)\n",
    "        tf.import_graph_def(sm.meta_graphs[0].graph_def, name=\"\")\n",
    "    \n",
    "print(graph)\n",
    "print(dir(graph))\n",
    "#input_tensor = graph.get_tensor_by_name(INPUT_TENSOR_NAME)\n",
    "#output_tensor = graph.get_tensor_by_name(OUTPUT_TENSOR_NAME)"
   ]
  },
  {
   "cell_type": "code",
   "execution_count": 171,
   "id": "14880618-c980-4559-97d2-58c3a47b042d",
   "metadata": {},
   "outputs": [
    {
     "ename": "DecodeError",
     "evalue": "Error parsing message",
     "output_type": "error",
     "traceback": [
      "\u001b[0;31m---------------------------------------------------------------------------\u001b[0m",
      "\u001b[0;31mDecodeError\u001b[0m                               Traceback (most recent call last)",
      "\u001b[0;32m<ipython-input-171-cd90430bdc12>\u001b[0m in \u001b[0;36m<module>\u001b[0;34m\u001b[0m\n\u001b[1;32m      7\u001b[0m \u001b[0;32mwith\u001b[0m \u001b[0mgfile\u001b[0m\u001b[0;34m.\u001b[0m\u001b[0mFastGFile\u001b[0m\u001b[0;34m(\u001b[0m\u001b[0mPB_PATH\u001b[0m\u001b[0;34m,\u001b[0m\u001b[0;34m'rb'\u001b[0m\u001b[0;34m)\u001b[0m \u001b[0;32mas\u001b[0m \u001b[0mf\u001b[0m\u001b[0;34m:\u001b[0m\u001b[0;34m\u001b[0m\u001b[0;34m\u001b[0m\u001b[0m\n\u001b[1;32m      8\u001b[0m     \u001b[0mgraph_def\u001b[0m \u001b[0;34m=\u001b[0m \u001b[0mtf\u001b[0m\u001b[0;34m.\u001b[0m\u001b[0mcompat\u001b[0m\u001b[0;34m.\u001b[0m\u001b[0mv1\u001b[0m\u001b[0;34m.\u001b[0m\u001b[0mGraphDef\u001b[0m\u001b[0;34m(\u001b[0m\u001b[0;34m)\u001b[0m\u001b[0;34m\u001b[0m\u001b[0;34m\u001b[0m\u001b[0m\n\u001b[0;32m----> 9\u001b[0;31m     \u001b[0mgraph_def\u001b[0m\u001b[0;34m.\u001b[0m\u001b[0mParseFromString\u001b[0m\u001b[0;34m(\u001b[0m\u001b[0mf\u001b[0m\u001b[0;34m.\u001b[0m\u001b[0mread\u001b[0m\u001b[0;34m(\u001b[0m\u001b[0;34m)\u001b[0m\u001b[0;34m)\u001b[0m\u001b[0;34m\u001b[0m\u001b[0;34m\u001b[0m\u001b[0m\n\u001b[0m\u001b[1;32m     10\u001b[0m \u001b[0;34m\u001b[0m\u001b[0m\n\u001b[1;32m     11\u001b[0m \u001b[0;32mwith\u001b[0m \u001b[0mtf\u001b[0m\u001b[0;34m.\u001b[0m\u001b[0mGraph\u001b[0m\u001b[0;34m(\u001b[0m\u001b[0;34m)\u001b[0m\u001b[0;34m.\u001b[0m\u001b[0mas_default\u001b[0m\u001b[0;34m(\u001b[0m\u001b[0;34m)\u001b[0m \u001b[0;32mas\u001b[0m \u001b[0mgraph\u001b[0m\u001b[0;34m:\u001b[0m\u001b[0;34m\u001b[0m\u001b[0;34m\u001b[0m\u001b[0m\n",
      "\u001b[0;31mDecodeError\u001b[0m: Error parsing message"
     ]
    }
   ],
   "source": [
    "INPUT_TENSOR_NAME = model.conv1.name\n",
    "OUTPUT_TENSOR_NAME = model.d2.name\n",
    "\n",
    "from tensorflow.python.platform import gfile\n",
    "\n",
    "PB_PATH = \"tf_model/saved_model.pb\" #\"loaded_model/saved_model.pb\"\n",
    "\n",
    "with gfile.FastGFile(PB_PATH,'rb') as f:\n",
    "    graph_def = tf.compat.v1.GraphDef()\n",
    "    graph_def.ParseFromString(f.read())\n",
    "\n",
    "with tf.Graph().as_default() as graph:\n",
    "    tf.import_graph_def(graph_def, name=\"\")\n",
    "\n",
    "input_tensor = graph.get_tensor_by_name(INPUT_TENSOR_NAME)\n",
    "output_tensor = graph.get_tensor_by_name(OUTPUT_TENSOR_NAME)"
   ]
  },
  {
   "cell_type": "code",
   "execution_count": null,
   "id": "f31f25c2-18db-4da4-86b8-bb74d6a8f8fc",
   "metadata": {},
   "outputs": [],
   "source": [
    "from google.protobuf import text_format\n",
    "\n",
    "INPUT_TENSOR_NAME = model.conv1.name\n",
    "OUTPUT_TENSOR_NAME = model.d2.name\n",
    "\n",
    "PB_PATH = \"loaded_model/saved_model.pb\"\n",
    "\n",
    "with tf.io.gfile.GFile(PB_PATH,'r') as f:\n",
    "  proto_b = f.read()\n",
    "  graph_def = tf.compat.v1.GraphDef()\n",
    "  text_format.Merge(proto_b, graph_def)\n",
    "  graph_def.ParseFromString(graph_def)\n",
    "\n",
    "with tf.Graph().as_default() as graph:\n",
    "  tf.import_graph_def(graph_def, name=\"\")\n",
    "\n",
    "input_tensor = graph.get_tensor_by_name(INPUT_TENSOR_NAME)\n",
    "output_tensor = graph.get_tensor_by_name(OUTPUT_TENSOR_NAME)"
   ]
  }
 ],
 "metadata": {
  "kernelspec": {
   "display_name": "Python 3",
   "language": "python",
   "name": "python3"
  },
  "language_info": {
   "codemirror_mode": {
    "name": "ipython",
    "version": 3
   },
   "file_extension": ".py",
   "mimetype": "text/x-python",
   "name": "python",
   "nbconvert_exporter": "python",
   "pygments_lexer": "ipython3",
   "version": "3.9.2"
  }
 },
 "nbformat": 4,
 "nbformat_minor": 5
}
