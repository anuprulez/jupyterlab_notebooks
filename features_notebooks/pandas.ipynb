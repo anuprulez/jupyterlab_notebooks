{
 "cells": [
  {
   "cell_type": "markdown",
   "id": "71c854b4-5540-4caf-8b6e-4e790d4a8042",
   "metadata": {},
   "source": [
    "## Data manipulation with Pandas"
   ]
  },
  {
   "cell_type": "code",
   "execution_count": null,
   "id": "66998589-6151-402f-bcb3-64e0b9acd998",
   "metadata": {},
   "outputs": [],
   "source": []
  }
 ],
 "metadata": {
  "kernelspec": {
   "display_name": "Python 3",
   "language": "python",
   "name": "python3"
  },
  "language_info": {
   "codemirror_mode": {
    "name": "ipython",
    "version": 3
   },
   "file_extension": ".py",
   "mimetype": "text/x-python",
   "name": "python",
   "nbconvert_exporter": "python",
   "pygments_lexer": "ipython3",
   "version": "3.9.2"
  }
 },
 "nbformat": 4,
 "nbformat_minor": 5
}
