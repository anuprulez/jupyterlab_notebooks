{
 "cells": [
  {
   "cell_type": "code",
   "execution_count": 1,
   "id": "69b83ebd",
   "metadata": {
    "execution": {
     "iopub.execute_input": "2021-06-17T06:53:09.402887Z",
     "iopub.status.busy": "2021-06-17T06:53:09.395568Z",
     "iopub.status.idle": "2021-06-17T06:53:10.751586Z",
     "shell.execute_reply": "2021-06-17T06:53:10.750770Z"
    },
    "papermill": {
     "duration": 1.401014,
     "end_time": "2021-06-17T06:53:10.751744",
     "exception": false,
     "start_time": "2021-06-17T06:53:09.350730",
     "status": "completed"
    },
    "tags": []
   },
   "outputs": [],
   "source": [
    "import pandas as pd\n",
    "from sklearn.metrics import confusion_matrix\n",
    "import seaborn as sns"
   ]
  },
  {
   "cell_type": "code",
   "execution_count": 2,
   "id": "b19c2f77",
   "metadata": {
    "execution": {
     "iopub.execute_input": "2021-06-17T06:53:10.776738Z",
     "iopub.status.busy": "2021-06-17T06:53:10.775916Z",
     "iopub.status.idle": "2021-06-17T06:53:10.783644Z",
     "shell.execute_reply": "2021-06-17T06:53:10.782910Z"
    },
    "papermill": {
     "duration": 0.022174,
     "end_time": "2021-06-17T06:53:10.783806",
     "exception": false,
     "start_time": "2021-06-17T06:53:10.761632",
     "status": "completed"
    },
    "tags": []
   },
   "outputs": [],
   "source": [
    "pred = pd.read_csv(\"data/predicted_labels.csv\", sep=\",\")\n",
    "true = pd.read_csv(\"data/true_labels.csv\", sep=\",\")"
   ]
  },
  {
   "cell_type": "code",
   "execution_count": 3,
   "id": "b20f0c46",
   "metadata": {
    "execution": {
     "iopub.execute_input": "2021-06-17T06:53:10.809561Z",
     "iopub.status.busy": "2021-06-17T06:53:10.808602Z",
     "iopub.status.idle": "2021-06-17T06:53:10.811804Z",
     "shell.execute_reply": "2021-06-17T06:53:10.811018Z"
    },
    "papermill": {
     "duration": 0.018926,
     "end_time": "2021-06-17T06:53:10.811969",
     "exception": false,
     "start_time": "2021-06-17T06:53:10.793043",
     "status": "completed"
    },
    "tags": []
   },
   "outputs": [],
   "source": [
    "cf_matrix = confusion_matrix(true, pred)"
   ]
  },
  {
   "cell_type": "code",
   "execution_count": 4,
   "id": "155a43fe",
   "metadata": {
    "execution": {
     "iopub.execute_input": "2021-06-17T06:53:10.836678Z",
     "iopub.status.busy": "2021-06-17T06:53:10.835620Z",
     "iopub.status.idle": "2021-06-17T06:53:10.839981Z",
     "shell.execute_reply": "2021-06-17T06:53:10.839217Z"
    },
    "papermill": {
     "duration": 0.019582,
     "end_time": "2021-06-17T06:53:10.840138",
     "exception": false,
     "start_time": "2021-06-17T06:53:10.820556",
     "status": "completed"
    },
    "tags": []
   },
   "outputs": [
    {
     "data": {
      "text/plain": [
       "array([[106,  16],\n",
       "       [ 22,  75]])"
      ]
     },
     "execution_count": 4,
     "metadata": {},
     "output_type": "execute_result"
    }
   ],
   "source": [
    "cf_matrix"
   ]
  },
  {
   "cell_type": "code",
   "execution_count": 5,
   "id": "45fb0917",
   "metadata": {
    "execution": {
     "iopub.execute_input": "2021-06-17T06:53:10.882981Z",
     "iopub.status.busy": "2021-06-17T06:53:10.882251Z",
     "iopub.status.idle": "2021-06-17T06:53:11.123675Z",
     "shell.execute_reply": "2021-06-17T06:53:11.122824Z"
    },
    "papermill": {
     "duration": 0.274361,
     "end_time": "2021-06-17T06:53:11.123854",
     "exception": false,
     "start_time": "2021-06-17T06:53:10.849493",
     "status": "completed"
    },
    "tags": []
   },
   "outputs": [
    {
     "data": {
      "image/png": "[encoded data removed]",
      "text/plain": [
       "<Figure size 432x288 with 2 Axes>"
      ]
     },
     "metadata": {
      "needs_background": "light"
     },
     "output_type": "display_data"
    }
   ],
   "source": [
    "model_plot = sns.heatmap(cf_matrix, annot=True, fmt=\"d\")"
   ]
  },
  {
   "cell_type": "code",
   "execution_count": 6,
   "id": "fae68f2e",
   "metadata": {
    "execution": {
     "iopub.execute_input": "2021-06-17T06:53:11.153935Z",
     "iopub.status.busy": "2021-06-17T06:53:11.153128Z",
     "iopub.status.idle": "2021-06-17T06:53:11.228884Z",
     "shell.execute_reply": "2021-06-17T06:53:11.228017Z"
    },
    "papermill": {
     "duration": 0.094625,
     "end_time": "2021-06-17T06:53:11.229087",
     "exception": false,
     "start_time": "2021-06-17T06:53:11.134462",
     "status": "completed"
    },
    "tags": []
   },
   "outputs": [],
   "source": [
    "figure = model_plot.get_figure();   \n",
    "figure.savefig('data/linear_model_performance.png', dpi=150)"
   ]
  },
  {
   "cell_type": "code",
   "execution_count": null,
   "id": "3e3add6b",
   "metadata": {
    "papermill": {
     "duration": 0.02079,
     "end_time": "2021-06-17T06:53:11.264763",
     "exception": false,
     "start_time": "2021-06-17T06:53:11.243973",
     "status": "completed"
    },
    "tags": []
   },
   "outputs": [],
   "source": []
  }
 ],
 "metadata": {
  "kernelspec": {
   "display_name": "Python 3",
   "language": "python",
   "name": "python3"
  },
  "language_info": {
   "codemirror_mode": {
    "name": "ipython",
    "version": 3
   },
   "file_extension": ".py",
   "mimetype": "text/x-python",
   "name": "python",
   "nbconvert_exporter": "python",
   "pygments_lexer": "ipython3",
   "version": "3.9.2"
  },
  "papermill": {
   "default_parameters": {},
   "duration": 4.036304,
   "end_time": "2021-06-17T06:53:12.551374",
   "environment_variables": {},
   "exception": null,
   "input_path": "/import/git_folder/jupyterlab_notebooks/features_notebooks/elyra/plot_results.ipynb",
   "output_path": "/import/git_folder/jupyterlab_notebooks/features_notebooks/elyra/plot_results.ipynb",
   "parameters": {},
   "start_time": "2021-06-17T06:53:08.515070",
   "version": "2.3.3"
  }
 },
 "nbformat": 4,
 "nbformat_minor": 5
}