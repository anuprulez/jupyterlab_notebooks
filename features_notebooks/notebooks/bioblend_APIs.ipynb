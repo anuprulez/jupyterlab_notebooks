{
 "cells": [
  {
   "cell_type": "markdown",
   "id": "d04c6d82-2aed-42e5-b643-1a0ca09a47f1",
   "metadata": {},
   "source": [
    "### Galaxy histories with Bioblend APIs"
   ]
  },
  {
   "cell_type": "code",
   "execution_count": 4,
   "id": "8edbe5b8",
   "metadata": {},
   "outputs": [],
   "source": [
    "import os\n",
    "\n",
    "import bioblend\n",
    "from bioblend.galaxy import GalaxyInstance\n",
    "from bioblend.galaxy import histories"
   ]
  },
  {
   "cell_type": "code",
   "execution_count": 5,
   "id": "52af1ddc-68a1-4242-bfed-5eb02bdcfaaa",
   "metadata": {},
   "outputs": [],
   "source": [
    "key = os.environ['API_KEY']"
   ]
  },
  {
   "cell_type": "code",
   "execution_count": 6,
   "id": "4fc2e126-405f-46bf-8dcd-0effb834490a",
   "metadata": {},
   "outputs": [],
   "source": [
    "history_id = os.environ['HISTORY_ID']"
   ]
  },
  {
   "cell_type": "markdown",
   "id": "e3149d01-d6ca-4bef-8f0f-216255e9e2a7",
   "metadata": {},
   "source": [
    "#### Upload dataset"
   ]
  },
  {
   "cell_type": "code",
   "execution_count": 7,
   "id": "8bdb2183-5c74-4d4d-b8b6-5903c353cbef",
   "metadata": {},
   "outputs": [],
   "source": [
    "put(\"data/breast-w_test.tsv\", file_type=\"tabular\")"
   ]
  },
  {
   "cell_type": "markdown",
   "id": "188994cb-7770-4a68-b726-0cb46d708550",
   "metadata": {},
   "source": [
    "#### Connect to Galaxy"
   ]
  },
  {
   "cell_type": "code",
   "execution_count": 11,
   "id": "2166fa73-323d-4863-a8f7-0e5f9f066a5a",
   "metadata": {},
   "outputs": [],
   "source": [
    "server='https://usegalaxy.eu'\n",
    "gi = GalaxyInstance(server, key=key)\n",
    "history = histories.HistoryClient(gi)"
   ]
  },
  {
   "cell_type": "code",
   "execution_count": 12,
   "id": "2b78f517-f75d-4557-b9ab-69652479a523",
   "metadata": {},
   "outputs": [],
   "source": [
    "current_history = history.get_most_recently_used_history()"
   ]
  },
  {
   "cell_type": "code",
   "execution_count": 13,
   "id": "fe63176b-8e49-4532-842b-ee121a8c577a",
   "metadata": {},
   "outputs": [],
   "source": [
    "#current_history"
   ]
  },
  {
   "cell_type": "markdown",
   "id": "33747de4-1883-4f22-a28b-433f5cd7398e",
   "metadata": {},
   "source": [
    "#### Create new history"
   ]
  },
  {
   "cell_type": "code",
   "execution_count": 18,
   "id": "cd9cff0f-4c5b-4156-9706-57a27aae8d82",
   "metadata": {},
   "outputs": [],
   "source": [
    "new_history = history.create_history(\"new_history\")"
   ]
  },
  {
   "cell_type": "code",
   "execution_count": 15,
   "id": "ca97492c-c854-4618-a16f-01cd1949a950",
   "metadata": {},
   "outputs": [],
   "source": [
    "# upload dataset to the new history\n",
    "put(\"data/breast-w_test.tsv\", file_type=\"tabular\", history_id=new_history[\"id\"])"
   ]
  },
  {
   "cell_type": "code",
   "execution_count": 1,
   "id": "b67417fd-aef2-4137-9d45-6e372cf8cf9f",
   "metadata": {},
   "outputs": [],
   "source": [
    "#print(dir(galaxy_ie_helpers))"
   ]
  },
  {
   "cell_type": "code",
   "execution_count": null,
   "id": "652b64c7-641a-4a3b-9e03-42903c3c5da9",
   "metadata": {},
   "outputs": [],
   "source": [
    "galaxy_ie_helpers.get_galaxy_connection()"
   ]
  },
  {
   "cell_type": "code",
   "execution_count": null,
   "id": "2ebc90ce-f594-4779-9df5-5b3589e7ae48",
   "metadata": {},
   "outputs": [],
   "source": []
  },
  {
   "cell_type": "code",
   "execution_count": null,
   "id": "1193ae0a-91ba-4c1f-81c4-e5190ef9ea39",
   "metadata": {},
   "outputs": [],
   "source": []
  },
  {
   "cell_type": "code",
   "execution_count": null,
   "id": "e3f7524c-8ee7-4fb5-be1c-d46378db0a06",
   "metadata": {},
   "outputs": [],
   "source": []
  },
  {
   "cell_type": "code",
   "execution_count": null,
   "id": "2421e898-c00f-4420-9abd-43f002a25f5c",
   "metadata": {},
   "outputs": [],
   "source": []
  }
 ],
 "metadata": {
  "kernelspec": {
   "display_name": "Python 3",
   "language": "python",
   "name": "python3"
  },
  "language_info": {
   "codemirror_mode": {
    "name": "ipython",
    "version": 3
   },
   "file_extension": ".py",
   "mimetype": "text/x-python",
   "name": "python",
   "nbconvert_exporter": "python",
   "pygments_lexer": "ipython3",
   "version": "3.9.5"
  }
 },
 "nbformat": 4,
 "nbformat_minor": 5
}
