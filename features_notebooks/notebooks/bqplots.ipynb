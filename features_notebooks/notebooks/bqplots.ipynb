{
 "cells": [
  {
   "cell_type": "markdown",
   "id": "72550874-92b2-4e0a-bfe8-a58b86d303b1",
   "metadata": {
    "tags": []
   },
   "source": [
    "### bqplot plots"
   ]
  },
  {
   "cell_type": "markdown",
   "id": "447eb4d1-d451-4c56-8646-c4eb6144aaa7",
   "metadata": {},
   "source": [
    "#### Line plot"
   ]
  },
  {
   "cell_type": "code",
   "execution_count": 12,
   "id": "986654ec-6db4-4bf6-8063-463e360dc084",
   "metadata": {},
   "outputs": [
    {
     "data": {
      "application/vnd.jupyter.widget-view+json": {
       "model_id": "02657a69329c47d4baed1521ef1e41c8",
       "version_major": 2,
       "version_minor": 0
      },
      "text/plain": [
       "VBox(children=(Figure(axes=[Axis(scale=LinearScale(), side='bottom'), Axis(orientation='vertical', scale=Linea…"
      ]
     },
     "metadata": {},
     "output_type": "display_data"
    }
   ],
   "source": [
    "import numpy as np\n",
    "from bqplot import pyplot as plt\n",
    "\n",
    "plt.figure(1, title='Line Chart')\n",
    "np.random.seed(0)\n",
    "n = 200\n",
    "x = np.linspace(0.0, 10.0, n)\n",
    "y = np.cumsum(np.random.randn(n))\n",
    "plt.plot(x, y)\n",
    "plt.show()"
   ]
  },
  {
   "cell_type": "markdown",
   "id": "bce9270c-f26e-4f79-8bd2-ea44dff40331",
   "metadata": {
    "tags": []
   },
   "source": [
    "#### Scatter plot"
   ]
  },
  {
   "cell_type": "code",
   "execution_count": 13,
   "id": "be0a753a-84d9-4f1b-9a31-89d47c3a827a",
   "metadata": {},
   "outputs": [
    {
     "data": {
      "application/vnd.jupyter.widget-view+json": {
       "model_id": "1e69a25b75d141aea38c6f8fc03b60b6",
       "version_major": 2,
       "version_minor": 0
      },
      "text/plain": [
       "Figure(animation_duration=1000, axes=[Axis(label='x', scale=LinearScale()), Axis(label='y', orientation='verti…"
      ]
     },
     "metadata": {},
     "output_type": "display_data"
    }
   ],
   "source": [
    "import numpy as np\n",
    "import bqplot.pyplot as plt\n",
    "from bqplot import LinearScale, Axis, Lines, Bars, Figure\n",
    "\n",
    "axes_options = {'x': {'label': 'x'}, 'y': {'label': 'y'}}\n",
    "\n",
    "fig = plt.figure(animation_duration=1000)\n",
    "x, y = np.random.rand(2, 20)\n",
    "scatt = plt.scatter(x, y, colors=['blue'], axes_options=axes_options)\n",
    "fig"
   ]
  },
  {
   "cell_type": "code",
   "execution_count": 14,
   "id": "8719932d-0133-4c5c-a672-41789d82ae38",
   "metadata": {},
   "outputs": [],
   "source": [
    "#data updates\n",
    "scatt.x = np.random.rand(20) * 10\n",
    "scatt.y = np.random.rand(20)"
   ]
  },
  {
   "cell_type": "markdown",
   "id": "d4262a3f-d30a-408b-9d5d-737656baf5f2",
   "metadata": {
    "tags": []
   },
   "source": [
    "#### Bar plot"
   ]
  },
  {
   "cell_type": "code",
   "execution_count": 15,
   "id": "5b337e2a-edac-4fef-88f8-1d7bb60a348c",
   "metadata": {},
   "outputs": [
    {
     "data": {
      "application/vnd.jupyter.widget-view+json": {
       "model_id": "c5abb449db114f548cef813bbc3c7d82",
       "version_major": 2,
       "version_minor": 0
      },
      "text/plain": [
       "Figure(animation_duration=1000, axes=[Axis(label='x', scale=LinearScale()), Axis(label='y', orientation='verti…"
      ]
     },
     "metadata": {},
     "output_type": "display_data"
    }
   ],
   "source": [
    "xs = LinearScale()\n",
    "ys1 = LinearScale()\n",
    "ys2 = LinearScale()\n",
    "\n",
    "x = np.arange(20)\n",
    "y = np.cumsum(np.random.randn(20))\n",
    "y1 = np.random.rand(20)\n",
    "\n",
    "line = Lines(x=x, y=y, scales={'x': xs, 'y': ys1}, colors=['magenta'], marker='square')\n",
    "bar = Bars(x=x, y=y1, scales={'x': xs, 'y': ys2}, colorpadding=0.2, colors=['steelblue'])\n",
    "\n",
    "xax = Axis(scale=xs, label='x', grid_lines='solid')\n",
    "yax1 = Axis(scale=ys1, orientation='vertical', tick_format='0.1f', label='y', grid_lines='solid')\n",
    "yax2 = Axis(scale=ys2, orientation='vertical', side='right', tick_format='0.0%', label='y1', grid_lines='none')\n",
    "\n",
    "Figure(marks=[bar, line], axes=[xax, yax1, yax2], animation_duration=1000)"
   ]
  },
  {
   "cell_type": "code",
   "execution_count": 16,
   "id": "e21b84cd-4e5b-409f-9b67-ae7de9ea8645",
   "metadata": {},
   "outputs": [],
   "source": [
    "# update mark data\n",
    "line.y = np.cumsum(np.random.randn(20))\n",
    "bar.y = np.random.rand(20)"
   ]
  },
  {
   "cell_type": "code",
   "execution_count": null,
   "id": "a7db8201-ef10-420a-81a8-410c347f3669",
   "metadata": {},
   "outputs": [],
   "source": []
  }
 ],
 "metadata": {
  "kernelspec": {
   "display_name": "Python 3",
   "language": "python",
   "name": "python3"
  },
  "language_info": {
   "codemirror_mode": {
    "name": "ipython",
    "version": 3
   },
   "file_extension": ".py",
   "mimetype": "text/x-python",
   "name": "python",
   "nbconvert_exporter": "python",
   "pygments_lexer": "ipython3",
   "version": "3.9.5"
  }
 },
 "nbformat": 4,
 "nbformat_minor": 5
}
